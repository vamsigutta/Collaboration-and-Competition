{
 "cells": [
  {
   "cell_type": "markdown",
   "metadata": {},
   "source": [
    "# Collaboration and Competition\n",
    "\n",
    "---\n",
    "\n",
    "You are welcome to use this coding environment to train your agent for the project.  Follow the instructions below to get started!\n",
    "\n",
    "### 1. Start the Environment\n",
    "\n",
    "Run the next code cell to install a few packages.  This line will take a few minutes to run!"
   ]
  },
  {
   "cell_type": "code",
   "execution_count": 1,
   "metadata": {},
   "outputs": [
    {
     "name": "stdout",
     "output_type": "stream",
     "text": [
      "\u001b[31mtensorflow 1.7.1 has requirement numpy>=1.13.3, but you'll have numpy 1.12.1 which is incompatible.\u001b[0m\r\n",
      "\u001b[31mipython 6.5.0 has requirement prompt-toolkit<2.0.0,>=1.0.15, but you'll have prompt-toolkit 2.0.10 which is incompatible.\u001b[0m\r\n"
     ]
    }
   ],
   "source": [
    "!pip -q install ./python"
   ]
  },
  {
   "cell_type": "markdown",
   "metadata": {},
   "source": [
    "The environment is already saved in the Workspace and can be accessed at the file path provided below. "
   ]
  },
  {
   "cell_type": "code",
   "execution_count": 2,
   "metadata": {},
   "outputs": [
    {
     "name": "stderr",
     "output_type": "stream",
     "text": [
      "INFO:unityagents:\n",
      "'Academy' started successfully!\n",
      "Unity Academy name: Academy\n",
      "        Number of Brains: 1\n",
      "        Number of External Brains : 1\n",
      "        Lesson number : 0\n",
      "        Reset Parameters :\n",
      "\t\t\n",
      "Unity brain name: TennisBrain\n",
      "        Number of Visual Observations (per agent): 0\n",
      "        Vector Observation space type: continuous\n",
      "        Vector Observation space size (per agent): 8\n",
      "        Number of stacked Vector Observation: 3\n",
      "        Vector Action space type: continuous\n",
      "        Vector Action space size (per agent): 2\n",
      "        Vector Action descriptions: , \n"
     ]
    }
   ],
   "source": [
    "from unityagents import UnityEnvironment\n",
    "import numpy as np\n",
    "\n",
    "env = UnityEnvironment(file_name=\"/data/Tennis_Linux_NoVis/Tennis\")"
   ]
  },
  {
   "cell_type": "markdown",
   "metadata": {},
   "source": [
    "Environments contain **_brains_** which are responsible for deciding the actions of their associated agents. Here we check for the first brain available, and set it as the default brain we will be controlling from Python."
   ]
  },
  {
   "cell_type": "code",
   "execution_count": 3,
   "metadata": {},
   "outputs": [],
   "source": [
    "# get the default brain\n",
    "brain_name = env.brain_names[0]\n",
    "brain = env.brains[brain_name]"
   ]
  },
  {
   "cell_type": "markdown",
   "metadata": {},
   "source": [
    "### 2. Examine the State and Action Spaces\n",
    "\n",
    "Run the code cell below to print some information about the environment."
   ]
  },
  {
   "cell_type": "code",
   "execution_count": 4,
   "metadata": {},
   "outputs": [
    {
     "name": "stdout",
     "output_type": "stream",
     "text": [
      "Number of agents: 2\n",
      "Size of each action: 2\n",
      "There are 2 agents. Each observes a state with length: 24\n",
      "The state for the first agent looks like: [ 0.          0.          0.          0.          0.          0.          0.\n",
      "  0.          0.          0.          0.          0.          0.          0.\n",
      "  0.          0.         -6.65278625 -1.5        -0.          0.\n",
      "  6.83172083  6.         -0.          0.        ]\n"
     ]
    }
   ],
   "source": [
    "# reset the environment\n",
    "env_info = env.reset(train_mode=True)[brain_name]\n",
    "\n",
    "# number of agents \n",
    "num_agents = len(env_info.agents)\n",
    "print('Number of agents:', num_agents)\n",
    "\n",
    "# size of each action\n",
    "action_size = brain.vector_action_space_size\n",
    "print('Size of each action:', action_size)\n",
    "\n",
    "# examine the state space \n",
    "states = env_info.vector_observations\n",
    "state_size = states.shape[1]\n",
    "print('There are {} agents. Each observes a state with length: {}'.format(states.shape[0], state_size))\n",
    "print('The state for the first agent looks like:', states[0])"
   ]
  },
  {
   "cell_type": "markdown",
   "metadata": {},
   "source": [
    "### 3. Take Random Actions in the Environment\n",
    "\n",
    "In the next code cell, you will learn how to use the Python API to control the agent and receive feedback from the environment.\n",
    "\n",
    "Note that **in this coding environment, you will not be able to watch the agents while they are training**, and you should set `train_mode=True` to restart the environment."
   ]
  },
  {
   "cell_type": "code",
   "execution_count": 5,
   "metadata": {},
   "outputs": [
    {
     "name": "stdout",
     "output_type": "stream",
     "text": [
      "Total score (averaged over agents) this episode: -0.004999999888241291\n",
      "Total score (averaged over agents) this episode: -0.004999999888241291\n",
      "Total score (averaged over agents) this episode: -0.004999999888241291\n",
      "Total score (averaged over agents) this episode: -0.004999999888241291\n",
      "Total score (averaged over agents) this episode: -0.004999999888241291\n"
     ]
    }
   ],
   "source": [
    "for i in range(5):                                         # play game for 5 episodes\n",
    "    env_info = env.reset(train_mode=False)[brain_name]     # reset the environment    \n",
    "    states = env_info.vector_observations                  # get the current state (for each agent)\n",
    "    scores = np.zeros(num_agents)                          # initialize the score (for each agent)\n",
    "    while True:\n",
    "        actions = np.random.randn(num_agents, action_size) # select an action (for each agent)\n",
    "        actions = np.clip(actions, -1, 1)                  # all actions between -1 and 1\n",
    "        env_info = env.step(actions)[brain_name]           # send all actions to tne environment\n",
    "        next_states = env_info.vector_observations         # get next state (for each agent)\n",
    "        rewards = env_info.rewards                         # get reward (for each agent)\n",
    "        dones = env_info.local_done                        # see if episode finished\n",
    "        scores += env_info.rewards                         # update the score (for each agent)\n",
    "        states = next_states                               # roll over states to next time step\n",
    "        if np.any(dones):                                  # exit loop if episode finished\n",
    "            break\n",
    "    print('Total score (averaged over agents) this episode: {}'.format(np.mean(scores)))"
   ]
  },
  {
   "cell_type": "markdown",
   "metadata": {},
   "source": [
    "When finished, you can close the environment."
   ]
  },
  {
   "cell_type": "code",
   "execution_count": 6,
   "metadata": {},
   "outputs": [],
   "source": [
    "# env.close()"
   ]
  },
  {
   "cell_type": "markdown",
   "metadata": {},
   "source": [
    "### 4. It's Your Turn!\n",
    "\n",
    "Now it's your turn to train your own agent to solve the environment!  A few **important notes**:\n",
    "- When training the environment, set `train_mode=True`, so that the line for resetting the environment looks like the following:\n",
    "```python\n",
    "env_info = env.reset(train_mode=True)[brain_name]\n",
    "```\n",
    "- To structure your work, you're welcome to work directly in this Jupyter notebook, or you might like to start over with a new file!  You can see the list of files in the workspace by clicking on **_Jupyter_** in the top left corner of the notebook.\n",
    "- In this coding environment, you will not be able to watch the agents while they are training.  However, **_after training the agents_**, you can download the saved model weights to watch the agents on your own machine! "
   ]
  },
  {
   "cell_type": "code",
   "execution_count": 7,
   "metadata": {},
   "outputs": [],
   "source": [
    "import matplotlib.pyplot as plt\n",
    "%matplotlib inline\n",
    "\n",
    "import numpy as np\n",
    "import random\n",
    "import time\n",
    "import torch\n",
    "\n",
    "from collections import deque\n",
    "from workspace_utils import active_session\n",
    "from ddpgAgent import Agent\n",
    "from unityagents import UnityEnvironment"
   ]
  },
  {
   "cell_type": "code",
   "execution_count": 8,
   "metadata": {},
   "outputs": [],
   "source": [
    "seed = 15"
   ]
  },
  {
   "cell_type": "markdown",
   "metadata": {},
   "source": [
    "### The chosen hyperparameters Hyperparameters\n",
    "\n",
    "BUFFER_SIZE = int(3e5)  # replay buffer size\n",
    "BATCH_SIZE = 512        # minibatch size\n",
    "GAMMA = 0.99            # discount factor\n",
    "TAU = 1e-3              # for soft update of target parameters\n",
    "LR_ACTOR = 2e-4         # learning rate for actor\n",
    "LR_CRITIC = 2e-4        # learning rate fot critic\n",
    "WEIGHT_DECAY = 0        # L2 weight decay\n",
    "\n",
    "LEARN_EVERY = 20\n",
    "LEARN_NUM = 10\n",
    "GRAD_CLIPPING = 1.0\n",
    "\n",
    "OU_SIGMA = 0.02\n",
    "OU_THETA = 0.1\n",
    "\n",
    "EPSILON = 1.0\n",
    "EPSILON_DECAY = 1e-6\n",
    "\n",
    "### Model architecture\n",
    "Similar to single-agent Actor Critic architecture, each agent has it’s own actor and critic network. The actor network takes in the current state of agent and output a recommended action for that agent. However the critic part is slightly different from ordinary single-agent DDPG. Here the critic network of each agent has full visibility on the environment. It not only takes in the observation and action of that particular agent, but also observations and actions of all other agents as well. Critic network has much higher visibility on what is happening while actor network can only access to the observation information of the respective agent. The output of the critic network is, nevertheless, still the Q value estimated given a full observation input(all agents) and a full action input(all agents). The output of the actor network is a recommended action for that particular agent.\n",
    "\n",
    "class Actor(nn.Module):\n",
    "    \n",
    "    def __init__(self, state_size, action_size, seed):\n",
    "        super(Actor,self).__init__()\n",
    "        self.seed = torch.manual_seed(seed)\n",
    "        \n",
    "        self.fc1 = nn.Linear(state_size, 500)\n",
    "        self.bn1 = nn.BatchNorm1d(500)\n",
    "        self.fc2 = nn.Linear(500, 300)\n",
    "        self.fc3 = nn.Linear(300, action_size)\n",
    "        self.reset_parameters()\n",
    "        \n",
    "    def reset_parameters(self):\n",
    "        self.fc1.weight.data.uniform_(*hidden_init(self.fc1))\n",
    "        self.fc2.weight.data.uniform_(*hidden_init(self.fc2))\n",
    "        self.fc3.weight.data.uniform_(-3e-3, 3e-3)\n",
    "    \n",
    "    def forward(self,x):\n",
    "        x = F.relu(self.bn1(self.fc1(x)))\n",
    "        x = F.relu(self.fc2(x))\n",
    "        return torch.tanh(self.fc3(x))\n",
    "\n",
    "    \n",
    "class Critic(nn.Module):\n",
    "    \n",
    "    def __init__(self, state_size, action_size,seed):\n",
    "        \n",
    "        super(Critic, self).__init__()\n",
    "        self.seed = torch.manual_seed(seed)\n",
    "        \n",
    "        self.fc1 = nn.Linear(state_size, 500)\n",
    "        self.bn1 = nn.BatchNorm1d(500)\n",
    "        self.fc2 = nn.Linear(500 + action_size,300)\n",
    "        self.fc3 = nn.Linear(300, 1)\n",
    "        self.reset_parameters()\n",
    "    \n",
    "    def reset_parameters(self):\n",
    "        self.fc1.weight.data.uniform_(*hidden_init(self.fc1))\n",
    "        self.fc2.weight.data.uniform_(*hidden_init(self.fc2))\n",
    "        self.fc3.weight.data.uniform_(-3e-3, 3e-3)\n",
    "    \n",
    "    def forward(self,state, action):\n",
    "        x_state = F.relu(self.bn1(self.fc1(state)))\n",
    "        x = torch.cat((x_state, action), dim=1)\n",
    "        x = F.relu(self.fc2(x))\n",
    "        return self.fc3(x)\n",
    "        "
   ]
  },
  {
   "cell_type": "code",
   "execution_count": 9,
   "metadata": {},
   "outputs": [],
   "source": [
    "# DDPG Function\n",
    "\n",
    "def ddpg(n_episodes = 2500, max_t = 1000, print_every = 10):\n",
    "    \n",
    "    mean_scores = []\n",
    "    moving_avgs = []\n",
    "    best_score = -np.inf\n",
    "    scores_window = deque(maxlen=100)\n",
    "    \n",
    "    \n",
    "    for i_episode in range(1, n_episodes+1):\n",
    "        env_info = env.reset(train_mode= True)[brain_name]\n",
    "        states = env_info.vector_observations\n",
    "        scores = np.zeros(num_agents)\n",
    "        agent.reset()\n",
    "        start_time = time.time()\n",
    "        for t in range(max_t):\n",
    "            actions = agent.act(states, add_noise=True)\n",
    "            env_info = env.step(actions)[brain_name]\n",
    "            next_states = env_info.vector_observations\n",
    "            rewards = env_info.rewards\n",
    "            dones = env_info.local_done\n",
    "            \n",
    "            for state, action, reward, next_state, done in zip(states, actions, rewards, next_states, dones):\n",
    "                agent.step(state,action,reward, next_state,done,t)\n",
    "            states = next_states\n",
    "            scores += rewards\n",
    "            if np.any(dones):\n",
    "                break\n",
    "        duration = time.time() - start_time\n",
    "        mean_scores.append(np.mean(scores))\n",
    "        scores_window.append(mean_scores[-1])\n",
    "        moving_avgs.append(np.mean(scores_window))\n",
    "        \n",
    "        if i_episode % print_every == 0:\n",
    "            print('\\rEpisode {} ({}s)\\tMean: {:.1f}\\tMoving Avg: {:.1f}'.format(\\\n",
    "                  i_episode, round(duration), mean_scores[-1], moving_avgs[-1]))\n",
    "                  \n",
    "        if moving_avgs[-1] >= 0.5 and i_episode >= 100:\n",
    "            print('\\nEnvironment solved in {:d} episodes!\\tAverage Score: {:.2f}'.format(i_episode-100, moving_avgs[-1]))\n",
    "            torch.save(agent.actor_local.state_dict(), 'checkpoint_actor.pth')\n",
    "            torch.save(agent.critic_local.state_dict(), 'checkpoint_critic.pth')\n",
    "            break\n",
    "        \n",
    "    return mean_scores, moving_avgs"
   ]
  },
  {
   "cell_type": "code",
   "execution_count": 10,
   "metadata": {},
   "outputs": [],
   "source": [
    "start = time.time()"
   ]
  },
  {
   "cell_type": "code",
   "execution_count": 11,
   "metadata": {},
   "outputs": [
    {
     "name": "stdout",
     "output_type": "stream",
     "text": [
      "Episode 10 (0s)\tMean: 0.0\tMoving Avg: 0.0\n",
      "Episode 20 (1s)\tMean: -0.0\tMoving Avg: 0.0\n",
      "Episode 30 (1s)\tMean: -0.0\tMoving Avg: 0.0\n",
      "Episode 40 (0s)\tMean: -0.0\tMoving Avg: -0.0\n",
      "Episode 50 (0s)\tMean: -0.0\tMoving Avg: -0.0\n",
      "Episode 60 (0s)\tMean: -0.0\tMoving Avg: -0.0\n",
      "Episode 70 (0s)\tMean: -0.0\tMoving Avg: -0.0\n",
      "Episode 80 (0s)\tMean: -0.0\tMoving Avg: -0.0\n",
      "Episode 90 (0s)\tMean: -0.0\tMoving Avg: -0.0\n",
      "Episode 100 (1s)\tMean: -0.0\tMoving Avg: -0.0\n",
      "Episode 110 (1s)\tMean: -0.0\tMoving Avg: -0.0\n",
      "Episode 120 (1s)\tMean: -0.0\tMoving Avg: -0.0\n",
      "Episode 130 (1s)\tMean: -0.0\tMoving Avg: -0.0\n",
      "Episode 140 (1s)\tMean: -0.0\tMoving Avg: -0.0\n",
      "Episode 150 (1s)\tMean: -0.0\tMoving Avg: -0.0\n",
      "Episode 160 (1s)\tMean: -0.0\tMoving Avg: -0.0\n",
      "Episode 170 (1s)\tMean: -0.0\tMoving Avg: -0.0\n",
      "Episode 180 (2s)\tMean: 0.1\tMoving Avg: -0.0\n",
      "Episode 190 (1s)\tMean: -0.0\tMoving Avg: -0.0\n",
      "Episode 200 (1s)\tMean: -0.0\tMoving Avg: -0.0\n",
      "Episode 210 (1s)\tMean: -0.0\tMoving Avg: -0.0\n",
      "Episode 220 (1s)\tMean: -0.0\tMoving Avg: -0.0\n",
      "Episode 230 (1s)\tMean: -0.0\tMoving Avg: -0.0\n",
      "Episode 240 (1s)\tMean: -0.0\tMoving Avg: -0.0\n",
      "Episode 250 (1s)\tMean: 0.0\tMoving Avg: -0.0\n",
      "Episode 260 (1s)\tMean: 0.0\tMoving Avg: 0.0\n",
      "Episode 270 (1s)\tMean: 0.0\tMoving Avg: 0.0\n",
      "Episode 280 (1s)\tMean: 0.0\tMoving Avg: 0.0\n",
      "Episode 290 (1s)\tMean: 0.0\tMoving Avg: 0.0\n",
      "Episode 300 (1s)\tMean: 0.0\tMoving Avg: 0.0\n",
      "Episode 310 (1s)\tMean: -0.0\tMoving Avg: 0.0\n",
      "Episode 320 (1s)\tMean: 0.0\tMoving Avg: 0.0\n",
      "Episode 330 (1s)\tMean: -0.0\tMoving Avg: 0.0\n",
      "Episode 340 (1s)\tMean: 0.0\tMoving Avg: 0.0\n",
      "Episode 350 (1s)\tMean: 0.0\tMoving Avg: 0.0\n",
      "Episode 360 (1s)\tMean: 0.0\tMoving Avg: 0.0\n",
      "Episode 370 (1s)\tMean: 0.0\tMoving Avg: 0.0\n",
      "Episode 380 (1s)\tMean: 0.0\tMoving Avg: 0.0\n",
      "Episode 390 (1s)\tMean: 0.0\tMoving Avg: 0.0\n",
      "Episode 400 (1s)\tMean: 0.0\tMoving Avg: 0.0\n",
      "Episode 410 (2s)\tMean: 0.1\tMoving Avg: 0.0\n",
      "Episode 420 (1s)\tMean: 0.0\tMoving Avg: 0.0\n",
      "Episode 430 (2s)\tMean: 0.1\tMoving Avg: 0.0\n",
      "Episode 440 (1s)\tMean: 0.0\tMoving Avg: 0.0\n",
      "Episode 450 (1s)\tMean: 0.0\tMoving Avg: 0.1\n",
      "Episode 460 (2s)\tMean: 0.1\tMoving Avg: 0.1\n",
      "Episode 470 (3s)\tMean: 0.2\tMoving Avg: 0.1\n",
      "Episode 480 (2s)\tMean: 0.1\tMoving Avg: 0.1\n",
      "Episode 490 (2s)\tMean: 0.1\tMoving Avg: 0.1\n",
      "Episode 500 (1s)\tMean: -0.0\tMoving Avg: 0.1\n",
      "Episode 510 (1s)\tMean: 0.0\tMoving Avg: 0.1\n",
      "Episode 520 (1s)\tMean: 0.0\tMoving Avg: 0.1\n",
      "Episode 530 (1s)\tMean: 0.0\tMoving Avg: 0.1\n",
      "Episode 540 (1s)\tMean: -0.0\tMoving Avg: 0.1\n",
      "Episode 550 (1s)\tMean: 0.0\tMoving Avg: 0.1\n",
      "Episode 560 (1s)\tMean: -0.0\tMoving Avg: 0.1\n",
      "Episode 570 (1s)\tMean: 0.0\tMoving Avg: 0.1\n",
      "Episode 580 (1s)\tMean: 0.0\tMoving Avg: 0.1\n",
      "Episode 590 (15s)\tMean: 1.3\tMoving Avg: 0.1\n",
      "Episode 600 (2s)\tMean: 0.1\tMoving Avg: 0.1\n",
      "Episode 610 (4s)\tMean: 0.3\tMoving Avg: 0.1\n",
      "Episode 620 (2s)\tMean: 0.1\tMoving Avg: 0.2\n",
      "Episode 630 (28s)\tMean: 2.7\tMoving Avg: 0.4\n",
      "Episode 640 (9s)\tMean: 0.8\tMoving Avg: 0.4\n",
      "\n",
      "Environment solved in 549 episodes!\tAverage Score: 0.51\n"
     ]
    }
   ],
   "source": [
    "agent = Agent(state_size = state_size, action_size = action_size, seed = seed)\n",
    "with active_session():\n",
    "    scores, avgs = ddpg()"
   ]
  },
  {
   "cell_type": "code",
   "execution_count": 12,
   "metadata": {},
   "outputs": [
    {
     "name": "stdout",
     "output_type": "stream",
     "text": [
      "\n",
      "Elapsed Time: 19.70 mins.\n"
     ]
    }
   ],
   "source": [
    "end = time.time()\n",
    "elapsed = (end - start) / 60.0 # in minutes\n",
    "print(\"\\nElapsed Time: {0:3.2f} mins.\".format(elapsed)) "
   ]
  },
  {
   "cell_type": "code",
   "execution_count": 13,
   "metadata": {},
   "outputs": [
    {
     "data": {
      "image/png": "[encoded data removed]",
      "text/plain": [
       "<matplotlib.figure.Figure at 0x7f44dd5c5748>"
      ]
     },
     "metadata": {
      "needs_background": "light"
     },
     "output_type": "display_data"
    }
   ],
   "source": [
    "# plot the scores\n",
    "fig = plt.figure()\n",
    "ax = fig.add_subplot(111)\n",
    "plt.plot(np.arange(len(scores)), scores, label='DDPG')\n",
    "plt.plot(np.arange(len(scores)), avgs, c='r', label='Moving AVG')\n",
    "plt.ylabel('Score')\n",
    "plt.xlabel('Episode #')\n",
    "plt.legend(loc='upper left');\n",
    "plt.show()"
   ]
  },
  {
   "cell_type": "code",
   "execution_count": 14,
   "metadata": {},
   "outputs": [],
   "source": [
    "env.close()"
   ]
  },
  {
   "cell_type": "markdown",
   "metadata": {},
   "source": [
    "### Ideas for improving the agent's performance\n",
    "Batch Normalization Neural network enhancement for a better performance."
   ]
  },
  {
   "cell_type": "code",
   "execution_count": null,
   "metadata": {},
   "outputs": [],
   "source": []
  }
 ],
 "metadata": {
  "kernelspec": {
   "display_name": "Python 3",
   "language": "python",
   "name": "python3"
  },
  "language_info": {
   "codemirror_mode": {
    "name": "ipython",
    "version": 3
   },
   "file_extension": ".py",
   "mimetype": "text/x-python",
   "name": "python",
   "nbconvert_exporter": "python",
   "pygments_lexer": "ipython3",
   "version": "3.6.3"
  }
 },
 "nbformat": 4,
 "nbformat_minor": 2
}
